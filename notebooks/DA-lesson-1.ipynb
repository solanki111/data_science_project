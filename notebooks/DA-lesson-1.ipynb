{
 "cells": [
  {
   "cell_type": "markdown",
   "metadata": {},
   "source": [
    "# DA Course | Lesson-1"
   ]
  },
  {
   "cell_type": "code",
   "execution_count": null,
   "metadata": {},
   "outputs": [],
   "source": [
    "who = !whoami\n",
    "print(who[0])"
   ]
  },
  {
   "cell_type": "code",
   "execution_count": null,
   "metadata": {},
   "outputs": [],
   "source": [
    "import os\n",
    "\n",
    "daily_engagement_filename = os.path.join('/', 'Users', who[0], 'Documents', 'data', 'daily_engagement.csv')\n",
    "submissions_filename = os.path.join('/', 'Users', who[0], 'Documents', 'data', 'project_submissions.csv')\n",
    "enrollments_filename = os.path.join('/', 'Users', who[0], 'Documents', 'data', 'enrollments.csv')\n",
    "print(daily_engagement_filename)\n",
    "print(submissions_filename)\n",
    "print(enrollments_filename)"
   ]
  },
  {
   "cell_type": "code",
   "execution_count": null,
   "metadata": {
    "scrolled": true
   },
   "outputs": [],
   "source": [
    "# function to read csv file\n",
    "import unicodecsv\n",
    "\n",
    "def read_csv_file(file_path):\n",
    "    with open(file_path, 'rb') as f:\n",
    "        reader = unicodecsv.DictReader(f)\n",
    "        return list(reader)\n",
    "\n",
    "daily_engagement = read_csv_file(daily_engagement_filename)\n",
    "submissions = read_csv_file(submissions_filename)\n",
    "enrollments = read_csv_file(enrollments_filename)"
   ]
  },
  {
   "cell_type": "code",
   "execution_count": null,
   "metadata": {},
   "outputs": [],
   "source": [
    "# import datetime\n",
    "# now = datetime.datetime.now()\n",
    "daily_engagement[0]\n",
    "submissions[0]\n",
    "enrollments[0]"
   ]
  },
  {
   "cell_type": "code",
   "execution_count": null,
   "metadata": {},
   "outputs": [],
   "source": [
    "!pwd\n",
    "!whoami"
   ]
  },
  {
   "cell_type": "markdown",
   "metadata": {},
   "source": [
    "# Fixing data types"
   ]
  },
  {
   "cell_type": "code",
   "execution_count": null,
   "metadata": {},
   "outputs": [],
   "source": [
    "from datetime import datetime as dt\n",
    "\n",
    "# Takes a date as a string, and returns a Python datetime object. \n",
    "# If there is no date given, returns None\n",
    "def parse_date(date):\n",
    "    if date == '':\n",
    "        return None\n",
    "    else:\n",
    "        return dt.strptime(date, '%Y-%m-%d')\n",
    "    \n",
    "# Takes a string which is either an empty string or represents an integer,\n",
    "# and returns an int or None.\n",
    "def parse_maybe_int(i):\n",
    "    if i == '':\n",
    "        return None\n",
    "    else:\n",
    "        return int(i)\n",
    "\n",
    "# Clean up the data types in the enrollments table\n",
    "for enrollment in enrollments:\n",
    "    enrollment['cancel_date'] = parse_date(enrollment['cancel_date'])\n",
    "    enrollment['days_to_cancel'] = parse_maybe_int(enrollment['days_to_cancel'])\n",
    "    enrollment['is_canceled'] = enrollment['is_canceled'] == 'True'\n",
    "    enrollment['is_udacity'] = enrollment['is_udacity'] == 'True'\n",
    "    enrollment['join_date'] = parse_date(enrollment['join_date'])\n",
    "    \n",
    "enrollments[0]"
   ]
  },
  {
   "cell_type": "code",
   "execution_count": null,
   "metadata": {},
   "outputs": [],
   "source": [
    "# Clean up the data types in the engagement table\n",
    "for engagement_record in daily_engagement:\n",
    "    engagement_record['lessons_completed'] = int(float(engagement_record['lessons_completed']))\n",
    "    engagement_record['num_courses_visited'] = int(float(engagement_record['num_courses_visited']))\n",
    "    engagement_record['projects_completed'] = int(float(engagement_record['projects_completed']))\n",
    "    engagement_record['total_minutes_visited'] = float(engagement_record['total_minutes_visited'])\n",
    "    engagement_record['utc_date'] = parse_date(engagement_record['utc_date'])\n",
    "    engagement_record['account_key'] = engagement_record['acct']\n",
    "    del[engagement_record['acct']]\n",
    "    \n",
    "daily_engagement[0]"
   ]
  },
  {
   "cell_type": "code",
   "execution_count": null,
   "metadata": {},
   "outputs": [],
   "source": [
    "# Clean up the data types in the submissions table\n",
    "for submission in submissions:\n",
    "    submission['completion_date'] = parse_date(submission['completion_date'])\n",
    "    submission['creation_date'] = parse_date(submission['creation_date'])\n",
    "\n",
    "submissions[0]"
   ]
  },
  {
   "cell_type": "code",
   "execution_count": 58,
   "metadata": {},
   "outputs": [],
   "source": [
    "def get_unique_students(data):\n",
    "    unique_students = set()\n",
    "    for data_point in data:\n",
    "        unique_students.add(data_point['account_key'])\n",
    "    return unique_students"
   ]
  },
  {
   "cell_type": "code",
   "execution_count": 60,
   "metadata": {},
   "outputs": [
    {
     "data": {
      "text/plain": [
       "1640"
      ]
     },
     "execution_count": 60,
     "metadata": {},
     "output_type": "execute_result"
    }
   ],
   "source": [
    "len(enrollments)"
   ]
  },
  {
   "cell_type": "code",
   "execution_count": 62,
   "metadata": {},
   "outputs": [
    {
     "data": {
      "text/plain": [
       "1302"
      ]
     },
     "execution_count": 62,
     "metadata": {},
     "output_type": "execute_result"
    }
   ],
   "source": [
    "unique_enrolled_students = set()\n",
    "for enrollment in enrollments:\n",
    "    unique_enrolled_students.add(enrollment['account_key'])\n",
    "len(unique_enrolled_students)"
   ]
  },
  {
   "cell_type": "code",
   "execution_count": 63,
   "metadata": {},
   "outputs": [],
   "source": [
    "unique_project_submissions = get_unique_students(submissions)\n",
    "unique_daily_engagements = get_unique_students(daily_engagement)"
   ]
  },
  {
   "cell_type": "code",
   "execution_count": 65,
   "metadata": {},
   "outputs": [
    {
     "data": {
      "text/plain": [
       "743"
      ]
     },
     "execution_count": 65,
     "metadata": {},
     "output_type": "execute_result"
    }
   ],
   "source": [
    "len(unique_project_submissions)\n",
    "len(unique_daily_engagements)"
   ]
  },
  {
   "cell_type": "markdown",
   "metadata": {},
   "source": [
    "## Investigating the data"
   ]
  },
  {
   "cell_type": "code",
   "execution_count": null,
   "metadata": {},
   "outputs": [],
   "source": [
    "#####################################\n",
    "#                 2                 #\n",
    "#####################################\n",
    "\n",
    "## Find the total number of rows and the number of unique students (account keys)\n",
    "## in each table.\n",
    "\n"
   ]
  },
  {
   "cell_type": "markdown",
   "metadata": {},
   "source": [
    "## Problems in data"
   ]
  },
  {
   "cell_type": "code",
   "execution_count": 85,
   "metadata": {},
   "outputs": [
    {
     "data": {
      "text/plain": [
       "{'utc_date': datetime.datetime(2015, 1, 9, 0, 0),\n",
       " 'num_courses_visited': 1,\n",
       " 'total_minutes_visited': 11.6793745,\n",
       " 'lessons_completed': 0,\n",
       " 'projects_completed': 0,\n",
       " 'account_key': '0'}"
      ]
     },
     "execution_count": 85,
     "metadata": {},
     "output_type": "execute_result"
    }
   ],
   "source": [
    "#####################################\n",
    "#                 3                 #\n",
    "#####################################\n",
    "\n",
    "## Rename the \"acct\" column in the daily_engagement table to \"account_key\".\n",
    "# for engagement in daily_engagement:\n",
    "#     engagement['account_key'] = engagement['acct']\n",
    "#     del[engagement['acct']]\n",
    "\n",
    "daily_engagement[0]"
   ]
  },
  {
   "cell_type": "markdown",
   "metadata": {},
   "source": [
    "## Missing Engagement Records"
   ]
  },
  {
   "cell_type": "code",
   "execution_count": 91,
   "metadata": {},
   "outputs": [
    {
     "name": "stdout",
     "output_type": "stream",
     "text": [
      "{'account_key': '1219', 'status': 'canceled', 'join_date': datetime.datetime(2014, 11, 12, 0, 0), 'cancel_date': datetime.datetime(2014, 11, 12, 0, 0), 'days_to_cancel': 0, 'is_udacity': False, 'is_canceled': True}\n",
      "1\n"
     ]
    }
   ],
   "source": [
    "#####################################\n",
    "#                 4                 #\n",
    "#####################################\n",
    "\n",
    "## Find any one student enrollments where the student is missing from the daily engagement table.\n",
    "## Output that enrollment.\n",
    "# for engag in daily_engagement:\n",
    "#     print(engag['account_key'])\n",
    "\n",
    "count = 0\n",
    "for enrol in enrollments:\n",
    "    if enrol['account_key'] not in unique_daily_engagements:\n",
    "        count += 1\n",
    "        print(enrol)\n",
    "        break\n",
    "\n",
    "print(count)\n",
    "\n",
    "#\n",
    "#print(next(iter(enrollments))"
   ]
  },
  {
   "cell_type": "markdown",
   "metadata": {},
   "source": [
    "## Checking for More Problem Records"
   ]
  },
  {
   "cell_type": "code",
   "execution_count": 95,
   "metadata": {},
   "outputs": [
    {
     "name": "stdout",
     "output_type": "stream",
     "text": [
      "{'account_key': '1304', 'status': 'canceled', 'join_date': datetime.datetime(2015, 1, 10, 0, 0), 'cancel_date': datetime.datetime(2015, 3, 10, 0, 0), 'days_to_cancel': 59, 'is_udacity': True, 'is_canceled': True}\n",
      "1\n"
     ]
    }
   ],
   "source": [
    "#####################################\n",
    "#                 5                 #\n",
    "#####################################\n",
    "\n",
    "## Find the number of surprising data points (enrollments missing from\n",
    "## the engagement table) that remain, if any.\n",
    "count = 0\n",
    "for enrol in enrollments:\n",
    "    if enrol['account_key'] not in unique_daily_engagements and enrol['join_date'] != enrol['cancel_date']:\n",
    "        count += 1\n",
    "        print(enrol)\n",
    "        break\n",
    "\n",
    "print(count)"
   ]
  },
  {
   "cell_type": "markdown",
   "metadata": {},
   "source": [
    "## Tracking Down the Remaining Problems"
   ]
  },
  {
   "cell_type": "code",
   "execution_count": 97,
   "metadata": {},
   "outputs": [
    {
     "data": {
      "text/plain": [
       "6"
      ]
     },
     "execution_count": 97,
     "metadata": {},
     "output_type": "execute_result"
    }
   ],
   "source": [
    "# Create a set of the account keys for all Udacity test accounts\n",
    "udacity_test_accounts = set()\n",
    "for enrol in enrollments:\n",
    "    if enrol['is_udacity'] == True:\n",
    "        udacity_test_accounts.add(enrol['account_key'])\n",
    "        \n",
    "len(udacity_test_accounts)\n",
    "    "
   ]
  },
  {
   "cell_type": "code",
   "execution_count": 101,
   "metadata": {},
   "outputs": [],
   "source": [
    "# Given some data with an account_key field, removes any records corresponding to Udacity test accounts\n",
    "def remove_udacity_accounts(data):\n",
    "    non_udacity_data = []\n",
    "    for data_point in data:\n",
    "        if data_point['account_key'] not in udacity_test_accounts:\n",
    "            non_udacity_data.append(data_point)\n",
    "    return non_udacity_data"
   ]
  },
  {
   "cell_type": "code",
   "execution_count": 102,
   "metadata": {},
   "outputs": [
    {
     "name": "stdout",
     "output_type": "stream",
     "text": [
      "1622\n",
      "135656\n",
      "3634\n"
     ]
    }
   ],
   "source": [
    "# Remove Udacity test accounts from all three tables\n",
    "non_udacity_enrollments = remove_udacity_accounts(enrollments)\n",
    "non_udacity_engagement = remove_udacity_accounts(daily_engagement)\n",
    "non_udacity_submissions = remove_udacity_accounts(submissions)\n",
    "\n",
    "print(len(non_udacity_enrollments))\n",
    "print(len(non_udacity_engagement))\n",
    "print(len(non_udacity_submissions))"
   ]
  },
  {
   "cell_type": "markdown",
   "metadata": {},
   "source": [
    "## Refining the Question"
   ]
  },
  {
   "cell_type": "code",
   "execution_count": 110,
   "metadata": {},
   "outputs": [
    {
     "name": "stdout",
     "output_type": "stream",
     "text": [
      "995\n"
     ]
    }
   ],
   "source": [
    "#####################################\n",
    "#                 6                 #\n",
    "#####################################\n",
    "\n",
    "## Create a dictionary named paid_students containing all students who either\n",
    "## haven't canceled yet or who remained enrolled for more than 7 days. The keys\n",
    "## should be account keys, and the values should be the date the student enrolled.\n",
    "\n",
    "paid_students = {}\n",
    "\n",
    "for enrol in non_udacity_enrollments:\n",
    "    if not enrol['is_canceled'] or enrol['days_to_cancel'] > 7:\n",
    "        accnt_key = enrol['account_key']\n",
    "        enrol_date = enrol['join_date']\n",
    "        \n",
    "        if accnt_key not in paid_students or enrol_date > paid_students[accnt_key]:   \n",
    "            paid_students[accnt_key] = enrol_date\n",
    "        \n",
    "print(len(paid_students))"
   ]
  },
  {
   "cell_type": "markdown",
   "metadata": {},
   "source": [
    "## Getting Data from First Week"
   ]
  },
  {
   "cell_type": "code",
   "execution_count": 111,
   "metadata": {},
   "outputs": [],
   "source": [
    "# Takes a student's join date and the date of a specific engagement record,\n",
    "# and returns True if that engagement record happened within one week\n",
    "# of the student joining.\n",
    "def within_one_week(join_date, engagement_date):\n",
    "    time_diff = engagement_date - join_date\n",
    "    return time_diff.days < 7"
   ]
  },
  {
   "cell_type": "code",
   "execution_count": 131,
   "metadata": {},
   "outputs": [],
   "source": [
    "# create a function to remove trial students\n",
    "def remove_free_trial_cancels(data):\n",
    "    new_data = []\n",
    "    for data_point in data:\n",
    "        if data_point['account_key'] in paid_students:\n",
    "            new_data.append(data_point)\n",
    "    return new_data"
   ]
  },
  {
   "cell_type": "code",
   "execution_count": 134,
   "metadata": {},
   "outputs": [
    {
     "name": "stdout",
     "output_type": "stream",
     "text": [
      "1293\n",
      "134549\n",
      "3618\n"
     ]
    }
   ],
   "source": [
    "paid_enrollments = remove_free_trial_cancels(non_udacity_enrollments)\n",
    "paid_engagement = remove_free_trial_cancels(non_udacity_engagement)\n",
    "paid_submissions = remove_free_trial_cancels(non_udacity_submissions)\n",
    "\n",
    "print(len(paid_enrollments))\n",
    "print(len(paid_engagement))\n",
    "print(len(paid_submissions))\n"
   ]
  },
  {
   "cell_type": "code",
   "execution_count": 129,
   "metadata": {},
   "outputs": [
    {
     "name": "stdout",
     "output_type": "stream",
     "text": [
      "21508\n"
     ]
    }
   ],
   "source": [
    "#####################################\n",
    "#                 7                 #\n",
    "#####################################\n",
    "\n",
    "## Create a list of rows from the engagement table including only rows where\n",
    "## the student is one of the paid students you just found, and the date is within\n",
    "## one week of the student's join date.\n",
    "\n",
    "paid_engagement_in_first_week = []\n",
    "\n",
    "for engagmnt in non_udacity_engagement:\n",
    "    # paid = paid_students[engagmnt['account_key']]\n",
    "    if engagmnt['account_key'] in paid_students \\\n",
    "    and within_one_week(paid_students[engagmnt['account_key']], engagmnt['utc_date']):\n",
    "            paid_engagement_in_first_week.append(engagmnt)\n",
    "        \n",
    "print(len(paid_engagement_in_first_week))\n"
   ]
  },
  {
   "cell_type": "markdown",
   "metadata": {},
   "source": [
    "## Exploring Student Engagement"
   ]
  },
  {
   "cell_type": "code",
   "execution_count": 182,
   "metadata": {},
   "outputs": [
    {
     "name": "stdout",
     "output_type": "stream",
     "text": [
      "{'account_key': '429', 'status': 'canceled', 'join_date': datetime.datetime(2014, 11, 10, 0, 0), 'cancel_date': datetime.datetime(2015, 3, 10, 0, 0), 'days_to_cancel': 120, 'is_udacity': False, 'is_canceled': True}\n"
     ]
    }
   ],
   "source": [
    "for paid in paid_enrollments:\n",
    "    print(paid)\n",
    "    break\n",
    "    "
   ]
  },
  {
   "cell_type": "code",
   "execution_count": 177,
   "metadata": {},
   "outputs": [
    {
     "name": "stdout",
     "output_type": "stream",
     "text": [
      "{'utc_date': datetime.datetime(2015, 1, 9, 0, 0), 'num_courses_visited': 1, 'total_minutes_visited': 11.6793745, 'lessons_completed': 0, 'projects_completed': 0, 'account_key': '0'}\n"
     ]
    },
    {
     "data": {
      "text/plain": [
       "0"
      ]
     },
     "execution_count": 177,
     "metadata": {},
     "output_type": "execute_result"
    }
   ],
   "source": [
    "# # Create a dict of paid udacity students who stayped past the trial period\n",
    "# paid_engagement_post_first_week = {}\n",
    "# engagement_by_account = defaultdict(list)\n",
    "# for engag in non_udacity_engagement:\n",
    "# #     print(engag)\n",
    "# #     break\n",
    "#     if engag == [v for k, v in paid_engagement_in_first_week.items()]\n",
    "#     # if paid_engagement_in_first_week[''] \n",
    "#     if engag not in paid_engagement_in_first_week:\n",
    "#         engagement_by_account[engag['account_key']].append({k: v for k, v in engag.items() if k != 'account_key'})\n",
    "        \n",
    "# len(engagement_by_account)\n",
    "\n"
   ]
  },
  {
   "cell_type": "code",
   "execution_count": 185,
   "metadata": {},
   "outputs": [
    {
     "data": {
      "text/plain": [
       "995"
      ]
     },
     "execution_count": 185,
     "metadata": {},
     "output_type": "execute_result"
    }
   ],
   "source": [
    "from collections import defaultdict\n",
    "\n",
    "# Create a dictionary of engagement grouped by student.\n",
    "# The keys are account keys, and the values are lists of engagement records.\n",
    "engagement_by_account = defaultdict(list)\n",
    "for engagement_record in paid_engagement:\n",
    "    account_key = engagement_record['account_key']\n",
    "    engagement_by_account[account_key].append(engagement_record)\n",
    "    \n",
    "len(engagement_by_account)\n",
    "    "
   ]
  },
  {
   "cell_type": "code",
   "execution_count": 173,
   "metadata": {},
   "outputs": [
    {
     "name": "stdout",
     "output_type": "stream",
     "text": [
      ">>>>>\n",
      ">>>>>\n",
      ">>>>>\n",
      ">>>>>\n",
      ">>>>>\n",
      ">>>>>\n",
      ">>>>>\n",
      "7\n"
     ]
    }
   ],
   "source": [
    "count = 0\n",
    "for engag in paid_engagement_in_first_week:\n",
    "    if int(engag['account_key']) == 0:\n",
    "        count += 1\n",
    "    \n",
    "print(count)\n"
   ]
  },
  {
   "cell_type": "code",
   "execution_count": 186,
   "metadata": {},
   "outputs": [
    {
     "name": "stdout",
     "output_type": "stream",
     "text": [
      "('0', [{'utc_date': datetime.datetime(2015, 1, 9, 0, 0), 'num_courses_visited': 1, 'total_minutes_visited': 11.6793745, 'lessons_completed': 0, 'projects_completed': 0, 'account_key': '0'}, {'utc_date': datetime.datetime(2015, 1, 10, 0, 0), 'num_courses_visited': 2, 'total_minutes_visited': 37.2848873333, 'lessons_completed': 0, 'projects_completed': 0, 'account_key': '0'}, {'utc_date': datetime.datetime(2015, 1, 11, 0, 0), 'num_courses_visited': 2, 'total_minutes_visited': 53.6337463333, 'lessons_completed': 0, 'projects_completed': 0, 'account_key': '0'}, {'utc_date': datetime.datetime(2015, 1, 12, 0, 0), 'num_courses_visited': 1, 'total_minutes_visited': 33.4892696667, 'lessons_completed': 0, 'projects_completed': 0, 'account_key': '0'}, {'utc_date': datetime.datetime(2015, 1, 13, 0, 0), 'num_courses_visited': 1, 'total_minutes_visited': 64.7796776667, 'lessons_completed': 0, 'projects_completed': 0, 'account_key': '0'}, {'utc_date': datetime.datetime(2015, 1, 14, 0, 0), 'num_courses_visited': 1, 'total_minutes_visited': 151.617576833, 'lessons_completed': 1, 'projects_completed': 0, 'account_key': '0'}, {'utc_date': datetime.datetime(2015, 1, 15, 0, 0), 'num_courses_visited': 1, 'total_minutes_visited': 142.395963833, 'lessons_completed': 0, 'projects_completed': 0, 'account_key': '0'}, {'utc_date': datetime.datetime(2015, 1, 16, 0, 0), 'num_courses_visited': 0, 'total_minutes_visited': 0.0, 'lessons_completed': 0, 'projects_completed': 0, 'account_key': '0'}, {'utc_date': datetime.datetime(2015, 1, 17, 0, 0), 'num_courses_visited': 1, 'total_minutes_visited': 9.8495625, 'lessons_completed': 0, 'projects_completed': 0, 'account_key': '0'}, {'utc_date': datetime.datetime(2015, 1, 18, 0, 0), 'num_courses_visited': 1, 'total_minutes_visited': 38.330548, 'lessons_completed': 0, 'projects_completed': 0, 'account_key': '0'}, {'utc_date': datetime.datetime(2015, 1, 19, 0, 0), 'num_courses_visited': 1, 'total_minutes_visited': 98.3275675, 'lessons_completed': 1, 'projects_completed': 0, 'account_key': '0'}, {'utc_date': datetime.datetime(2015, 1, 20, 0, 0), 'num_courses_visited': 0, 'total_minutes_visited': 0.0, 'lessons_completed': 0, 'projects_completed': 0, 'account_key': '0'}, {'utc_date': datetime.datetime(2015, 1, 21, 0, 0), 'num_courses_visited': 0, 'total_minutes_visited': 0.0, 'lessons_completed': 0, 'projects_completed': 0, 'account_key': '0'}, {'utc_date': datetime.datetime(2015, 1, 22, 0, 0), 'num_courses_visited': 1, 'total_minutes_visited': 218.309690167, 'lessons_completed': 1, 'projects_completed': 0, 'account_key': '0'}, {'utc_date': datetime.datetime(2015, 1, 23, 0, 0), 'num_courses_visited': 1, 'total_minutes_visited': 280.773319167, 'lessons_completed': 1, 'projects_completed': 0, 'account_key': '0'}, {'utc_date': datetime.datetime(2015, 1, 24, 0, 0), 'num_courses_visited': 1, 'total_minutes_visited': 32.2760201667, 'lessons_completed': 0, 'projects_completed': 0, 'account_key': '0'}, {'utc_date': datetime.datetime(2015, 1, 25, 0, 0), 'num_courses_visited': 1, 'total_minutes_visited': 65.467882, 'lessons_completed': 0, 'projects_completed': 0, 'account_key': '0'}, {'utc_date': datetime.datetime(2015, 1, 26, 0, 0), 'num_courses_visited': 1, 'total_minutes_visited': 74.806089, 'lessons_completed': 1, 'projects_completed': 0, 'account_key': '0'}, {'utc_date': datetime.datetime(2015, 1, 27, 0, 0), 'num_courses_visited': 1, 'total_minutes_visited': 199.5010495, 'lessons_completed': 1, 'projects_completed': 0, 'account_key': '0'}, {'utc_date': datetime.datetime(2015, 1, 28, 0, 0), 'num_courses_visited': 1, 'total_minutes_visited': 55.2349593333, 'lessons_completed': 0, 'projects_completed': 0, 'account_key': '0'}, {'utc_date': datetime.datetime(2015, 1, 29, 0, 0), 'num_courses_visited': 1, 'total_minutes_visited': 212.645668667, 'lessons_completed': 1, 'projects_completed': 0, 'account_key': '0'}, {'utc_date': datetime.datetime(2015, 1, 30, 0, 0), 'num_courses_visited': 1, 'total_minutes_visited': 96.0037191667, 'lessons_completed': 1, 'projects_completed': 0, 'account_key': '0'}, {'utc_date': datetime.datetime(2015, 1, 31, 0, 0), 'num_courses_visited': 1, 'total_minutes_visited': 94.333214, 'lessons_completed': 0, 'projects_completed': 0, 'account_key': '0'}, {'utc_date': datetime.datetime(2015, 2, 1, 0, 0), 'num_courses_visited': 1, 'total_minutes_visited': 40.564986, 'lessons_completed': 1, 'projects_completed': 0, 'account_key': '0'}, {'utc_date': datetime.datetime(2015, 2, 2, 0, 0), 'num_courses_visited': 2, 'total_minutes_visited': 75.525712, 'lessons_completed': 0, 'projects_completed': 0, 'account_key': '0'}, {'utc_date': datetime.datetime(2015, 2, 3, 0, 0), 'num_courses_visited': 1, 'total_minutes_visited': 147.728229, 'lessons_completed': 0, 'projects_completed': 0, 'account_key': '0'}, {'utc_date': datetime.datetime(2015, 2, 4, 0, 0), 'num_courses_visited': 1, 'total_minutes_visited': 38.5299701667, 'lessons_completed': 1, 'projects_completed': 0, 'account_key': '0'}, {'utc_date': datetime.datetime(2015, 2, 5, 0, 0), 'num_courses_visited': 2, 'total_minutes_visited': 84.9565343334, 'lessons_completed': 0, 'projects_completed': 0, 'account_key': '0'}, {'utc_date': datetime.datetime(2015, 2, 6, 0, 0), 'num_courses_visited': 1, 'total_minutes_visited': 101.378330333, 'lessons_completed': 1, 'projects_completed': 0, 'account_key': '0'}, {'utc_date': datetime.datetime(2015, 2, 7, 0, 0), 'num_courses_visited': 1, 'total_minutes_visited': 104.065235, 'lessons_completed': 1, 'projects_completed': 0, 'account_key': '0'}, {'utc_date': datetime.datetime(2015, 2, 8, 0, 0), 'num_courses_visited': 0, 'total_minutes_visited': 0.0, 'lessons_completed': 0, 'projects_completed': 0, 'account_key': '0'}, {'utc_date': datetime.datetime(2015, 2, 9, 0, 0), 'num_courses_visited': 1, 'total_minutes_visited': 102.063156833, 'lessons_completed': 0, 'projects_completed': 0, 'account_key': '0'}, {'utc_date': datetime.datetime(2015, 2, 10, 0, 0), 'num_courses_visited': 1, 'total_minutes_visited': 104.679762333, 'lessons_completed': 1, 'projects_completed': 0, 'account_key': '0'}, {'utc_date': datetime.datetime(2015, 2, 11, 0, 0), 'num_courses_visited': 1, 'total_minutes_visited': 401.115233, 'lessons_completed': 2, 'projects_completed': 0, 'account_key': '0'}, {'utc_date': datetime.datetime(2015, 2, 12, 0, 0), 'num_courses_visited': 1, 'total_minutes_visited': 75.988601, 'lessons_completed': 0, 'projects_completed': 0, 'account_key': '0'}, {'utc_date': datetime.datetime(2015, 2, 13, 0, 0), 'num_courses_visited': 1, 'total_minutes_visited': 29.5425376667, 'lessons_completed': 1, 'projects_completed': 0, 'account_key': '0'}, {'utc_date': datetime.datetime(2015, 2, 14, 0, 0), 'num_courses_visited': 1, 'total_minutes_visited': 111.8835475, 'lessons_completed': 0, 'projects_completed': 0, 'account_key': '0'}, {'utc_date': datetime.datetime(2015, 2, 15, 0, 0), 'num_courses_visited': 0, 'total_minutes_visited': 0.0, 'lessons_completed': 0, 'projects_completed': 0, 'account_key': '0'}, {'utc_date': datetime.datetime(2015, 2, 16, 0, 0), 'num_courses_visited': 0, 'total_minutes_visited': 0.0, 'lessons_completed': 0, 'projects_completed': 0, 'account_key': '0'}, {'utc_date': datetime.datetime(2015, 2, 17, 0, 0), 'num_courses_visited': 0, 'total_minutes_visited': 0.0, 'lessons_completed': 0, 'projects_completed': 0, 'account_key': '0'}, {'utc_date': datetime.datetime(2015, 2, 18, 0, 0), 'num_courses_visited': 0, 'total_minutes_visited': 0.0, 'lessons_completed': 0, 'projects_completed': 0, 'account_key': '0'}, {'utc_date': datetime.datetime(2015, 2, 19, 0, 0), 'num_courses_visited': 0, 'total_minutes_visited': 0.0, 'lessons_completed': 0, 'projects_completed': 0, 'account_key': '0'}, {'utc_date': datetime.datetime(2015, 2, 20, 0, 0), 'num_courses_visited': 1, 'total_minutes_visited': 32.6505448333, 'lessons_completed': 0, 'projects_completed': 0, 'account_key': '0'}, {'utc_date': datetime.datetime(2015, 2, 21, 0, 0), 'num_courses_visited': 1, 'total_minutes_visited': 62.9092253333, 'lessons_completed': 0, 'projects_completed': 0, 'account_key': '0'}, {'utc_date': datetime.datetime(2015, 2, 22, 0, 0), 'num_courses_visited': 1, 'total_minutes_visited': 77.8910681667, 'lessons_completed': 1, 'projects_completed': 0, 'account_key': '0'}, {'utc_date': datetime.datetime(2015, 2, 23, 0, 0), 'num_courses_visited': 1, 'total_minutes_visited': 149.886224833, 'lessons_completed': 0, 'projects_completed': 0, 'account_key': '0'}, {'utc_date': datetime.datetime(2015, 2, 24, 0, 0), 'num_courses_visited': 0, 'total_minutes_visited': 0.0, 'lessons_completed': 0, 'projects_completed': 0, 'account_key': '0'}, {'utc_date': datetime.datetime(2015, 2, 25, 0, 0), 'num_courses_visited': 1, 'total_minutes_visited': 148.062158833, 'lessons_completed': 1, 'projects_completed': 0, 'account_key': '0'}, {'utc_date': datetime.datetime(2015, 2, 26, 0, 0), 'num_courses_visited': 2, 'total_minutes_visited': 42.3405491667, 'lessons_completed': 1, 'projects_completed': 0, 'account_key': '0'}, {'utc_date': datetime.datetime(2015, 2, 27, 0, 0), 'num_courses_visited': 2, 'total_minutes_visited': 32.479962, 'lessons_completed': 0, 'projects_completed': 0, 'account_key': '0'}, {'utc_date': datetime.datetime(2015, 2, 28, 0, 0), 'num_courses_visited': 0, 'total_minutes_visited': 0.0, 'lessons_completed': 0, 'projects_completed': 0, 'account_key': '0'}, {'utc_date': datetime.datetime(2015, 3, 1, 0, 0), 'num_courses_visited': 2, 'total_minutes_visited': 76.5451126667, 'lessons_completed': 0, 'projects_completed': 0, 'account_key': '0'}, {'utc_date': datetime.datetime(2015, 3, 2, 0, 0), 'num_courses_visited': 2, 'total_minutes_visited': 52.3286868334, 'lessons_completed': 0, 'projects_completed': 0, 'account_key': '0'}, {'utc_date': datetime.datetime(2015, 3, 3, 0, 0), 'num_courses_visited': 2, 'total_minutes_visited': 72.9312528334, 'lessons_completed': 0, 'projects_completed': 0, 'account_key': '0'}, {'utc_date': datetime.datetime(2015, 3, 4, 0, 0), 'num_courses_visited': 2, 'total_minutes_visited': 75.3168575, 'lessons_completed': 0, 'projects_completed': 0, 'account_key': '0'}, {'utc_date': datetime.datetime(2015, 3, 5, 0, 0), 'num_courses_visited': 1, 'total_minutes_visited': 58.7287473333, 'lessons_completed': 0, 'projects_completed': 0, 'account_key': '0'}, {'utc_date': datetime.datetime(2015, 3, 6, 0, 0), 'num_courses_visited': 2, 'total_minutes_visited': 61.3593731667, 'lessons_completed': 0, 'projects_completed': 0, 'account_key': '0'}, {'utc_date': datetime.datetime(2015, 3, 7, 0, 0), 'num_courses_visited': 0, 'total_minutes_visited': 0.0, 'lessons_completed': 0, 'projects_completed': 0, 'account_key': '0'}, {'utc_date': datetime.datetime(2015, 3, 8, 0, 0), 'num_courses_visited': 0, 'total_minutes_visited': 0.0, 'lessons_completed': 0, 'projects_completed': 0, 'account_key': '0'}, {'utc_date': datetime.datetime(2015, 3, 9, 0, 0), 'num_courses_visited': 1, 'total_minutes_visited': 13.0344913333, 'lessons_completed': 0, 'projects_completed': 0, 'account_key': '0'}, {'utc_date': datetime.datetime(2015, 3, 10, 0, 0), 'num_courses_visited': 2, 'total_minutes_visited': 238.282677666, 'lessons_completed': 1, 'projects_completed': 0, 'account_key': '0'}, {'utc_date': datetime.datetime(2015, 3, 11, 0, 0), 'num_courses_visited': 2, 'total_minutes_visited': 90.317473, 'lessons_completed': 0, 'projects_completed': 0, 'account_key': '0'}, {'utc_date': datetime.datetime(2015, 3, 12, 0, 0), 'num_courses_visited': 1, 'total_minutes_visited': 20.3650096667, 'lessons_completed': 0, 'projects_completed': 0, 'account_key': '0'}, {'utc_date': datetime.datetime(2015, 3, 13, 0, 0), 'num_courses_visited': 0, 'total_minutes_visited': 0.0, 'lessons_completed': 0, 'projects_completed': 0, 'account_key': '0'}, {'utc_date': datetime.datetime(2015, 3, 14, 0, 0), 'num_courses_visited': 0, 'total_minutes_visited': 0.0, 'lessons_completed': 0, 'projects_completed': 0, 'account_key': '0'}, {'utc_date': datetime.datetime(2015, 3, 15, 0, 0), 'num_courses_visited': 0, 'total_minutes_visited': 0.0, 'lessons_completed': 0, 'projects_completed': 0, 'account_key': '0'}, {'utc_date': datetime.datetime(2015, 3, 16, 0, 0), 'num_courses_visited': 2, 'total_minutes_visited': 164.301307834, 'lessons_completed': 0, 'projects_completed': 0, 'account_key': '0'}, {'utc_date': datetime.datetime(2015, 3, 17, 0, 0), 'num_courses_visited': 2, 'total_minutes_visited': 13.6127401667, 'lessons_completed': 0, 'projects_completed': 0, 'account_key': '0'}, {'utc_date': datetime.datetime(2015, 3, 18, 0, 0), 'num_courses_visited': 2, 'total_minutes_visited': 28.9673653334, 'lessons_completed': 1, 'projects_completed': 0, 'account_key': '0'}, {'utc_date': datetime.datetime(2015, 3, 19, 0, 0), 'num_courses_visited': 0, 'total_minutes_visited': 0.0, 'lessons_completed': 0, 'projects_completed': 0, 'account_key': '0'}, {'utc_date': datetime.datetime(2015, 3, 20, 0, 0), 'num_courses_visited': 0, 'total_minutes_visited': 0.0, 'lessons_completed': 0, 'projects_completed': 0, 'account_key': '0'}, {'utc_date': datetime.datetime(2015, 3, 21, 0, 0), 'num_courses_visited': 0, 'total_minutes_visited': 0.0, 'lessons_completed': 0, 'projects_completed': 0, 'account_key': '0'}, {'utc_date': datetime.datetime(2015, 3, 22, 0, 0), 'num_courses_visited': 0, 'total_minutes_visited': 0.0, 'lessons_completed': 0, 'projects_completed': 0, 'account_key': '0'}, {'utc_date': datetime.datetime(2015, 3, 23, 0, 0), 'num_courses_visited': 1, 'total_minutes_visited': 35.6879838333, 'lessons_completed': 0, 'projects_completed': 0, 'account_key': '0'}, {'utc_date': datetime.datetime(2015, 3, 24, 0, 0), 'num_courses_visited': 1, 'total_minutes_visited': 142.7344815, 'lessons_completed': 1, 'projects_completed': 0, 'account_key': '0'}, {'utc_date': datetime.datetime(2015, 3, 25, 0, 0), 'num_courses_visited': 1, 'total_minutes_visited': 175.6848335, 'lessons_completed': 1, 'projects_completed': 0, 'account_key': '0'}, {'utc_date': datetime.datetime(2015, 3, 26, 0, 0), 'num_courses_visited': 1, 'total_minutes_visited': 50.231326, 'lessons_completed': 1, 'projects_completed': 0, 'account_key': '0'}, {'utc_date': datetime.datetime(2015, 3, 27, 0, 0), 'num_courses_visited': 0, 'total_minutes_visited': 0.0, 'lessons_completed': 0, 'projects_completed': 0, 'account_key': '0'}, {'utc_date': datetime.datetime(2015, 3, 28, 0, 0), 'num_courses_visited': 0, 'total_minutes_visited': 0.0, 'lessons_completed': 0, 'projects_completed': 0, 'account_key': '0'}, {'utc_date': datetime.datetime(2015, 3, 29, 0, 0), 'num_courses_visited': 0, 'total_minutes_visited': 0.0, 'lessons_completed': 0, 'projects_completed': 0, 'account_key': '0'}, {'utc_date': datetime.datetime(2015, 3, 30, 0, 0), 'num_courses_visited': 0, 'total_minutes_visited': 0.0, 'lessons_completed': 0, 'projects_completed': 0, 'account_key': '0'}, {'utc_date': datetime.datetime(2015, 3, 31, 0, 0), 'num_courses_visited': 1, 'total_minutes_visited': 173.54588, 'lessons_completed': 1, 'projects_completed': 0, 'account_key': '0'}, {'utc_date': datetime.datetime(2015, 4, 1, 0, 0), 'num_courses_visited': 1, 'total_minutes_visited': 214.837217833, 'lessons_completed': 3, 'projects_completed': 0, 'account_key': '0'}, {'utc_date': datetime.datetime(2015, 4, 2, 0, 0), 'num_courses_visited': 0, 'total_minutes_visited': 0.0, 'lessons_completed': 0, 'projects_completed': 0, 'account_key': '0'}, {'utc_date': datetime.datetime(2015, 4, 3, 0, 0), 'num_courses_visited': 1, 'total_minutes_visited': 59.0732133333, 'lessons_completed': 1, 'projects_completed': 0, 'account_key': '0'}, {'utc_date': datetime.datetime(2015, 4, 4, 0, 0), 'num_courses_visited': 1, 'total_minutes_visited': 35.71483, 'lessons_completed': 0, 'projects_completed': 0, 'account_key': '0'}, {'utc_date': datetime.datetime(2015, 4, 5, 0, 0), 'num_courses_visited': 1, 'total_minutes_visited': 103.655366, 'lessons_completed': 1, 'projects_completed': 0, 'account_key': '0'}, {'utc_date': datetime.datetime(2015, 4, 6, 0, 0), 'num_courses_visited': 1, 'total_minutes_visited': 171.518927, 'lessons_completed': 1, 'projects_completed': 0, 'account_key': '0'}, {'utc_date': datetime.datetime(2015, 4, 7, 0, 0), 'num_courses_visited': 1, 'total_minutes_visited': 14.3998386667, 'lessons_completed': 0, 'projects_completed': 0, 'account_key': '0'}, {'utc_date': datetime.datetime(2015, 4, 8, 0, 0), 'num_courses_visited': 2, 'total_minutes_visited': 115.690604167, 'lessons_completed': 2, 'projects_completed': 0, 'account_key': '0'}, {'utc_date': datetime.datetime(2015, 4, 9, 0, 0), 'num_courses_visited': 1, 'total_minutes_visited': 235.687231833, 'lessons_completed': 2, 'projects_completed': 0, 'account_key': '0'}, {'utc_date': datetime.datetime(2015, 4, 10, 0, 0), 'num_courses_visited': 0, 'total_minutes_visited': 0.0, 'lessons_completed': 0, 'projects_completed': 0, 'account_key': '0'}, {'utc_date': datetime.datetime(2015, 4, 11, 0, 0), 'num_courses_visited': 1, 'total_minutes_visited': 41.9540113333, 'lessons_completed': 0, 'projects_completed': 0, 'account_key': '0'}, {'utc_date': datetime.datetime(2015, 4, 12, 0, 0), 'num_courses_visited': 1, 'total_minutes_visited': 17.4156996667, 'lessons_completed': 0, 'projects_completed': 0, 'account_key': '0'}, {'utc_date': datetime.datetime(2015, 4, 13, 0, 0), 'num_courses_visited': 1, 'total_minutes_visited': 10.4754313333, 'lessons_completed': 0, 'projects_completed': 0, 'account_key': '0'}, {'utc_date': datetime.datetime(2015, 4, 14, 0, 0), 'num_courses_visited': 1, 'total_minutes_visited': 37.0426483333, 'lessons_completed': 0, 'projects_completed': 0, 'account_key': '0'}, {'utc_date': datetime.datetime(2015, 4, 15, 0, 0), 'num_courses_visited': 0, 'total_minutes_visited': 0.0, 'lessons_completed': 0, 'projects_completed': 0, 'account_key': '0'}, {'utc_date': datetime.datetime(2015, 4, 16, 0, 0), 'num_courses_visited': 0, 'total_minutes_visited': 0.0, 'lessons_completed': 0, 'projects_completed': 0, 'account_key': '0'}, {'utc_date': datetime.datetime(2015, 4, 17, 0, 0), 'num_courses_visited': 0, 'total_minutes_visited': 0.0, 'lessons_completed': 0, 'projects_completed': 0, 'account_key': '0'}, {'utc_date': datetime.datetime(2015, 4, 18, 0, 0), 'num_courses_visited': 0, 'total_minutes_visited': 0.0, 'lessons_completed': 0, 'projects_completed': 0, 'account_key': '0'}, {'utc_date': datetime.datetime(2015, 4, 19, 0, 0), 'num_courses_visited': 0, 'total_minutes_visited': 0.0, 'lessons_completed': 0, 'projects_completed': 0, 'account_key': '0'}, {'utc_date': datetime.datetime(2015, 4, 20, 0, 0), 'num_courses_visited': 1, 'total_minutes_visited': 25.2435245, 'lessons_completed': 0, 'projects_completed': 0, 'account_key': '0'}, {'utc_date': datetime.datetime(2015, 4, 21, 0, 0), 'num_courses_visited': 1, 'total_minutes_visited': 7.10464066667, 'lessons_completed': 0, 'projects_completed': 0, 'account_key': '0'}, {'utc_date': datetime.datetime(2015, 4, 22, 0, 0), 'num_courses_visited': 0, 'total_minutes_visited': 0.0, 'lessons_completed': 0, 'projects_completed': 0, 'account_key': '0'}, {'utc_date': datetime.datetime(2015, 4, 23, 0, 0), 'num_courses_visited': 0, 'total_minutes_visited': 0.0, 'lessons_completed': 0, 'projects_completed': 1, 'account_key': '0'}, {'utc_date': datetime.datetime(2015, 4, 24, 0, 0), 'num_courses_visited': 0, 'total_minutes_visited': 0.0, 'lessons_completed': 0, 'projects_completed': 0, 'account_key': '0'}, {'utc_date': datetime.datetime(2015, 4, 25, 0, 0), 'num_courses_visited': 0, 'total_minutes_visited': 0.0, 'lessons_completed': 0, 'projects_completed': 0, 'account_key': '0'}, {'utc_date': datetime.datetime(2015, 4, 26, 0, 0), 'num_courses_visited': 0, 'total_minutes_visited': 0.0, 'lessons_completed': 0, 'projects_completed': 0, 'account_key': '0'}, {'utc_date': datetime.datetime(2015, 4, 27, 0, 0), 'num_courses_visited': 0, 'total_minutes_visited': 0.0, 'lessons_completed': 0, 'projects_completed': 0, 'account_key': '0'}, {'utc_date': datetime.datetime(2015, 4, 28, 0, 0), 'num_courses_visited': 1, 'total_minutes_visited': 3.13019766667, 'lessons_completed': 0, 'projects_completed': 0, 'account_key': '0'}, {'utc_date': datetime.datetime(2015, 4, 29, 0, 0), 'num_courses_visited': 0, 'total_minutes_visited': 0.0, 'lessons_completed': 0, 'projects_completed': 0, 'account_key': '0'}, {'utc_date': datetime.datetime(2015, 4, 30, 0, 0), 'num_courses_visited': 0, 'total_minutes_visited': 0.0, 'lessons_completed': 0, 'projects_completed': 0, 'account_key': '0'}, {'utc_date': datetime.datetime(2015, 5, 1, 0, 0), 'num_courses_visited': 0, 'total_minutes_visited': 0.0, 'lessons_completed': 0, 'projects_completed': 0, 'account_key': '0'}, {'utc_date': datetime.datetime(2015, 5, 2, 0, 0), 'num_courses_visited': 0, 'total_minutes_visited': 0.0, 'lessons_completed': 0, 'projects_completed': 0, 'account_key': '0'}, {'utc_date': datetime.datetime(2015, 5, 3, 0, 0), 'num_courses_visited': 0, 'total_minutes_visited': 0.0, 'lessons_completed': 0, 'projects_completed': 0, 'account_key': '0'}, {'utc_date': datetime.datetime(2015, 5, 4, 0, 0), 'num_courses_visited': 0, 'total_minutes_visited': 0.0, 'lessons_completed': 0, 'projects_completed': 0, 'account_key': '0'}, {'utc_date': datetime.datetime(2015, 5, 5, 0, 0), 'num_courses_visited': 0, 'total_minutes_visited': 0.0, 'lessons_completed': 0, 'projects_completed': 0, 'account_key': '0'}, {'utc_date': datetime.datetime(2015, 5, 6, 0, 0), 'num_courses_visited': 0, 'total_minutes_visited': 0.0, 'lessons_completed': 0, 'projects_completed': 0, 'account_key': '0'}, {'utc_date': datetime.datetime(2015, 5, 7, 0, 0), 'num_courses_visited': 0, 'total_minutes_visited': 0.0, 'lessons_completed': 0, 'projects_completed': 0, 'account_key': '0'}, {'utc_date': datetime.datetime(2015, 5, 8, 0, 0), 'num_courses_visited': 3, 'total_minutes_visited': 121.301107833, 'lessons_completed': 1, 'projects_completed': 0, 'account_key': '0'}, {'utc_date': datetime.datetime(2015, 5, 9, 0, 0), 'num_courses_visited': 1, 'total_minutes_visited': 78.9664818333, 'lessons_completed': 0, 'projects_completed': 0, 'account_key': '0'}, {'utc_date': datetime.datetime(2015, 5, 10, 0, 0), 'num_courses_visited': 2, 'total_minutes_visited': 39.1185718333, 'lessons_completed': 0, 'projects_completed': 0, 'account_key': '0'}, {'utc_date': datetime.datetime(2015, 5, 11, 0, 0), 'num_courses_visited': 1, 'total_minutes_visited': 130.237900333, 'lessons_completed': 0, 'projects_completed': 0, 'account_key': '0'}, {'utc_date': datetime.datetime(2015, 5, 12, 0, 0), 'num_courses_visited': 1, 'total_minutes_visited': 8.6603245, 'lessons_completed': 0, 'projects_completed': 0, 'account_key': '0'}, {'utc_date': datetime.datetime(2015, 5, 13, 0, 0), 'num_courses_visited': 0, 'total_minutes_visited': 0.0, 'lessons_completed': 0, 'projects_completed': 0, 'account_key': '0'}, {'utc_date': datetime.datetime(2015, 5, 14, 0, 0), 'num_courses_visited': 0, 'total_minutes_visited': 0.0, 'lessons_completed': 0, 'projects_completed': 0, 'account_key': '0'}, {'utc_date': datetime.datetime(2015, 5, 15, 0, 0), 'num_courses_visited': 0, 'total_minutes_visited': 0.0, 'lessons_completed': 0, 'projects_completed': 0, 'account_key': '0'}, {'utc_date': datetime.datetime(2015, 5, 16, 0, 0), 'num_courses_visited': 0, 'total_minutes_visited': 0.0, 'lessons_completed': 0, 'projects_completed': 0, 'account_key': '0'}, {'utc_date': datetime.datetime(2015, 5, 17, 0, 0), 'num_courses_visited': 0, 'total_minutes_visited': 0.0, 'lessons_completed': 0, 'projects_completed': 0, 'account_key': '0'}, {'utc_date': datetime.datetime(2015, 5, 18, 0, 0), 'num_courses_visited': 0, 'total_minutes_visited': 0.0, 'lessons_completed': 0, 'projects_completed': 0, 'account_key': '0'}, {'utc_date': datetime.datetime(2015, 5, 19, 0, 0), 'num_courses_visited': 0, 'total_minutes_visited': 0.0, 'lessons_completed': 0, 'projects_completed': 0, 'account_key': '0'}, {'utc_date': datetime.datetime(2015, 5, 20, 0, 0), 'num_courses_visited': 0, 'total_minutes_visited': 0.0, 'lessons_completed': 0, 'projects_completed': 0, 'account_key': '0'}, {'utc_date': datetime.datetime(2015, 5, 21, 0, 0), 'num_courses_visited': 0, 'total_minutes_visited': 0.0, 'lessons_completed': 0, 'projects_completed': 0, 'account_key': '0'}, {'utc_date': datetime.datetime(2015, 5, 22, 0, 0), 'num_courses_visited': 0, 'total_minutes_visited': 0.0, 'lessons_completed': 0, 'projects_completed': 0, 'account_key': '0'}, {'utc_date': datetime.datetime(2015, 5, 23, 0, 0), 'num_courses_visited': 0, 'total_minutes_visited': 0.0, 'lessons_completed': 0, 'projects_completed': 0, 'account_key': '0'}, {'utc_date': datetime.datetime(2015, 5, 24, 0, 0), 'num_courses_visited': 0, 'total_minutes_visited': 0.0, 'lessons_completed': 0, 'projects_completed': 0, 'account_key': '0'}, {'utc_date': datetime.datetime(2015, 5, 25, 0, 0), 'num_courses_visited': 0, 'total_minutes_visited': 0.0, 'lessons_completed': 0, 'projects_completed': 0, 'account_key': '0'}, {'utc_date': datetime.datetime(2015, 5, 26, 0, 0), 'num_courses_visited': 0, 'total_minutes_visited': 0.0, 'lessons_completed': 0, 'projects_completed': 0, 'account_key': '0'}, {'utc_date': datetime.datetime(2015, 5, 27, 0, 0), 'num_courses_visited': 0, 'total_minutes_visited': 0.0, 'lessons_completed': 0, 'projects_completed': 0, 'account_key': '0'}, {'utc_date': datetime.datetime(2015, 5, 28, 0, 0), 'num_courses_visited': 0, 'total_minutes_visited': 0.0, 'lessons_completed': 0, 'projects_completed': 0, 'account_key': '0'}, {'utc_date': datetime.datetime(2015, 5, 29, 0, 0), 'num_courses_visited': 0, 'total_minutes_visited': 0.0, 'lessons_completed': 0, 'projects_completed': 0, 'account_key': '0'}, {'utc_date': datetime.datetime(2015, 5, 30, 0, 0), 'num_courses_visited': 0, 'total_minutes_visited': 0.0, 'lessons_completed': 0, 'projects_completed': 0, 'account_key': '0'}, {'utc_date': datetime.datetime(2015, 5, 31, 0, 0), 'num_courses_visited': 0, 'total_minutes_visited': 0.0, 'lessons_completed': 0, 'projects_completed': 0, 'account_key': '0'}, {'utc_date': datetime.datetime(2015, 6, 1, 0, 0), 'num_courses_visited': 0, 'total_minutes_visited': 0.0, 'lessons_completed': 0, 'projects_completed': 0, 'account_key': '0'}, {'utc_date': datetime.datetime(2015, 6, 2, 0, 0), 'num_courses_visited': 0, 'total_minutes_visited': 0.0, 'lessons_completed': 0, 'projects_completed': 0, 'account_key': '0'}, {'utc_date': datetime.datetime(2015, 6, 3, 0, 0), 'num_courses_visited': 0, 'total_minutes_visited': 0.0, 'lessons_completed': 0, 'projects_completed': 0, 'account_key': '0'}, {'utc_date': datetime.datetime(2015, 6, 4, 0, 0), 'num_courses_visited': 0, 'total_minutes_visited': 0.0, 'lessons_completed': 0, 'projects_completed': 0, 'account_key': '0'}, {'utc_date': datetime.datetime(2015, 6, 5, 0, 0), 'num_courses_visited': 0, 'total_minutes_visited': 0.0, 'lessons_completed': 0, 'projects_completed': 0, 'account_key': '0'}, {'utc_date': datetime.datetime(2015, 6, 6, 0, 0), 'num_courses_visited': 0, 'total_minutes_visited': 0.0, 'lessons_completed': 0, 'projects_completed': 0, 'account_key': '0'}, {'utc_date': datetime.datetime(2015, 6, 7, 0, 0), 'num_courses_visited': 0, 'total_minutes_visited': 0.0, 'lessons_completed': 0, 'projects_completed': 0, 'account_key': '0'}, {'utc_date': datetime.datetime(2015, 6, 8, 0, 0), 'num_courses_visited': 0, 'total_minutes_visited': 0.0, 'lessons_completed': 0, 'projects_completed': 0, 'account_key': '0'}, {'utc_date': datetime.datetime(2015, 6, 9, 0, 0), 'num_courses_visited': 0, 'total_minutes_visited': 0.0, 'lessons_completed': 0, 'projects_completed': 0, 'account_key': '0'}, {'utc_date': datetime.datetime(2015, 6, 10, 0, 0), 'num_courses_visited': 0, 'total_minutes_visited': 0.0, 'lessons_completed': 0, 'projects_completed': 0, 'account_key': '0'}, {'utc_date': datetime.datetime(2015, 6, 11, 0, 0), 'num_courses_visited': 0, 'total_minutes_visited': 0.0, 'lessons_completed': 0, 'projects_completed': 0, 'account_key': '0'}, {'utc_date': datetime.datetime(2015, 6, 12, 0, 0), 'num_courses_visited': 1, 'total_minutes_visited': 12.2313653333, 'lessons_completed': 0, 'projects_completed': 0, 'account_key': '0'}, {'utc_date': datetime.datetime(2015, 6, 13, 0, 0), 'num_courses_visited': 0, 'total_minutes_visited': 0.0, 'lessons_completed': 0, 'projects_completed': 0, 'account_key': '0'}, {'utc_date': datetime.datetime(2015, 6, 14, 0, 0), 'num_courses_visited': 0, 'total_minutes_visited': 0.0, 'lessons_completed': 0, 'projects_completed': 0, 'account_key': '0'}, {'utc_date': datetime.datetime(2015, 6, 15, 0, 0), 'num_courses_visited': 0, 'total_minutes_visited': 0.0, 'lessons_completed': 0, 'projects_completed': 0, 'account_key': '0'}, {'utc_date': datetime.datetime(2015, 6, 16, 0, 0), 'num_courses_visited': 0, 'total_minutes_visited': 0.0, 'lessons_completed': 0, 'projects_completed': 0, 'account_key': '0'}, {'utc_date': datetime.datetime(2015, 6, 17, 0, 0), 'num_courses_visited': 0, 'total_minutes_visited': 0.0, 'lessons_completed': 0, 'projects_completed': 0, 'account_key': '0'}, {'utc_date': datetime.datetime(2015, 6, 18, 0, 0), 'num_courses_visited': 1, 'total_minutes_visited': 75.9321218333, 'lessons_completed': 1, 'projects_completed': 0, 'account_key': '0'}, {'utc_date': datetime.datetime(2015, 6, 19, 0, 0), 'num_courses_visited': 1, 'total_minutes_visited': 72.5781645, 'lessons_completed': 1, 'projects_completed': 0, 'account_key': '0'}, {'utc_date': datetime.datetime(2015, 6, 20, 0, 0), 'num_courses_visited': 0, 'total_minutes_visited': 0.0, 'lessons_completed': 0, 'projects_completed': 0, 'account_key': '0'}, {'utc_date': datetime.datetime(2015, 6, 21, 0, 0), 'num_courses_visited': 0, 'total_minutes_visited': 0.0, 'lessons_completed': 0, 'projects_completed': 0, 'account_key': '0'}, {'utc_date': datetime.datetime(2015, 6, 22, 0, 0), 'num_courses_visited': 0, 'total_minutes_visited': 0.0, 'lessons_completed': 0, 'projects_completed': 0, 'account_key': '0'}, {'utc_date': datetime.datetime(2015, 6, 23, 0, 0), 'num_courses_visited': 0, 'total_minutes_visited': 0.0, 'lessons_completed': 0, 'projects_completed': 0, 'account_key': '0'}, {'utc_date': datetime.datetime(2015, 6, 24, 0, 0), 'num_courses_visited': 1, 'total_minutes_visited': 94.7982856667, 'lessons_completed': 0, 'projects_completed': 0, 'account_key': '0'}, {'utc_date': datetime.datetime(2015, 6, 25, 0, 0), 'num_courses_visited': 0, 'total_minutes_visited': 0.0, 'lessons_completed': 0, 'projects_completed': 0, 'account_key': '0'}, {'utc_date': datetime.datetime(2015, 6, 26, 0, 0), 'num_courses_visited': 1, 'total_minutes_visited': 50.7091576667, 'lessons_completed': 0, 'projects_completed': 0, 'account_key': '0'}, {'utc_date': datetime.datetime(2015, 6, 27, 0, 0), 'num_courses_visited': 0, 'total_minutes_visited': 0.0, 'lessons_completed': 0, 'projects_completed': 0, 'account_key': '0'}, {'utc_date': datetime.datetime(2015, 6, 28, 0, 0), 'num_courses_visited': 1, 'total_minutes_visited': 104.3308655, 'lessons_completed': 0, 'projects_completed': 0, 'account_key': '0'}, {'utc_date': datetime.datetime(2015, 6, 29, 0, 0), 'num_courses_visited': 1, 'total_minutes_visited': 211.402388167, 'lessons_completed': 2, 'projects_completed': 0, 'account_key': '0'}, {'utc_date': datetime.datetime(2015, 6, 30, 0, 0), 'num_courses_visited': 1, 'total_minutes_visited': 13.5055071667, 'lessons_completed': 0, 'projects_completed': 0, 'account_key': '0'}, {'utc_date': datetime.datetime(2015, 7, 1, 0, 0), 'num_courses_visited': 0, 'total_minutes_visited': 0.0, 'lessons_completed': 0, 'projects_completed': 0, 'account_key': '0'}, {'utc_date': datetime.datetime(2015, 7, 2, 0, 0), 'num_courses_visited': 0, 'total_minutes_visited': 0.0, 'lessons_completed': 0, 'projects_completed': 0, 'account_key': '0'}, {'utc_date': datetime.datetime(2015, 7, 3, 0, 0), 'num_courses_visited': 0, 'total_minutes_visited': 0.0, 'lessons_completed': 0, 'projects_completed': 0, 'account_key': '0'}, {'utc_date': datetime.datetime(2015, 7, 4, 0, 0), 'num_courses_visited': 0, 'total_minutes_visited': 0.0, 'lessons_completed': 0, 'projects_completed': 0, 'account_key': '0'}, {'utc_date': datetime.datetime(2015, 7, 5, 0, 0), 'num_courses_visited': 0, 'total_minutes_visited': 0.0, 'lessons_completed': 0, 'projects_completed': 0, 'account_key': '0'}, {'utc_date': datetime.datetime(2015, 7, 6, 0, 0), 'num_courses_visited': 0, 'total_minutes_visited': 0.0, 'lessons_completed': 0, 'projects_completed': 0, 'account_key': '0'}, {'utc_date': datetime.datetime(2015, 7, 7, 0, 0), 'num_courses_visited': 0, 'total_minutes_visited': 0.0, 'lessons_completed': 0, 'projects_completed': 0, 'account_key': '0'}, {'utc_date': datetime.datetime(2015, 7, 8, 0, 0), 'num_courses_visited': 0, 'total_minutes_visited': 0.0, 'lessons_completed': 0, 'projects_completed': 0, 'account_key': '0'}, {'utc_date': datetime.datetime(2015, 7, 9, 0, 0), 'num_courses_visited': 0, 'total_minutes_visited': 0.0, 'lessons_completed': 0, 'projects_completed': 0, 'account_key': '0'}, {'utc_date': datetime.datetime(2015, 7, 10, 0, 0), 'num_courses_visited': 0, 'total_minutes_visited': 0.0, 'lessons_completed': 0, 'projects_completed': 0, 'account_key': '0'}, {'utc_date': datetime.datetime(2015, 7, 11, 0, 0), 'num_courses_visited': 0, 'total_minutes_visited': 0.0, 'lessons_completed': 0, 'projects_completed': 0, 'account_key': '0'}, {'utc_date': datetime.datetime(2015, 7, 12, 0, 0), 'num_courses_visited': 0, 'total_minutes_visited': 0.0, 'lessons_completed': 0, 'projects_completed': 0, 'account_key': '0'}, {'utc_date': datetime.datetime(2015, 7, 13, 0, 0), 'num_courses_visited': 0, 'total_minutes_visited': 0.0, 'lessons_completed': 0, 'projects_completed': 0, 'account_key': '0'}, {'utc_date': datetime.datetime(2015, 7, 14, 0, 0), 'num_courses_visited': 0, 'total_minutes_visited': 0.0, 'lessons_completed': 0, 'projects_completed': 0, 'account_key': '0'}, {'utc_date': datetime.datetime(2015, 7, 15, 0, 0), 'num_courses_visited': 0, 'total_minutes_visited': 0.0, 'lessons_completed': 0, 'projects_completed': 0, 'account_key': '0'}, {'utc_date': datetime.datetime(2015, 7, 16, 0, 0), 'num_courses_visited': 0, 'total_minutes_visited': 0.0, 'lessons_completed': 0, 'projects_completed': 0, 'account_key': '0'}, {'utc_date': datetime.datetime(2015, 7, 17, 0, 0), 'num_courses_visited': 0, 'total_minutes_visited': 0.0, 'lessons_completed': 0, 'projects_completed': 0, 'account_key': '0'}, {'utc_date': datetime.datetime(2015, 7, 18, 0, 0), 'num_courses_visited': 0, 'total_minutes_visited': 0.0, 'lessons_completed': 0, 'projects_completed': 0, 'account_key': '0'}, {'utc_date': datetime.datetime(2015, 7, 19, 0, 0), 'num_courses_visited': 0, 'total_minutes_visited': 0.0, 'lessons_completed': 0, 'projects_completed': 0, 'account_key': '0'}, {'utc_date': datetime.datetime(2015, 7, 20, 0, 0), 'num_courses_visited': 0, 'total_minutes_visited': 0.0, 'lessons_completed': 0, 'projects_completed': 0, 'account_key': '0'}, {'utc_date': datetime.datetime(2015, 7, 21, 0, 0), 'num_courses_visited': 0, 'total_minutes_visited': 0.0, 'lessons_completed': 0, 'projects_completed': 0, 'account_key': '0'}, {'utc_date': datetime.datetime(2015, 7, 22, 0, 0), 'num_courses_visited': 0, 'total_minutes_visited': 0.0, 'lessons_completed': 0, 'projects_completed': 0, 'account_key': '0'}, {'utc_date': datetime.datetime(2015, 7, 23, 0, 0), 'num_courses_visited': 0, 'total_minutes_visited': 0.0, 'lessons_completed': 0, 'projects_completed': 0, 'account_key': '0'}, {'utc_date': datetime.datetime(2015, 7, 24, 0, 0), 'num_courses_visited': 0, 'total_minutes_visited': 0.0, 'lessons_completed': 0, 'projects_completed': 0, 'account_key': '0'}, {'utc_date': datetime.datetime(2015, 7, 25, 0, 0), 'num_courses_visited': 0, 'total_minutes_visited': 0.0, 'lessons_completed': 0, 'projects_completed': 0, 'account_key': '0'}, {'utc_date': datetime.datetime(2015, 7, 27, 0, 0), 'num_courses_visited': 0, 'total_minutes_visited': 0.0, 'lessons_completed': 0, 'projects_completed': 1, 'account_key': '0'}, {'utc_date': datetime.datetime(2015, 7, 28, 0, 0), 'num_courses_visited': 0, 'total_minutes_visited': 0.0, 'lessons_completed': 0, 'projects_completed': 0, 'account_key': '0'}, {'utc_date': datetime.datetime(2015, 7, 29, 0, 0), 'num_courses_visited': 0, 'total_minutes_visited': 0.0, 'lessons_completed': 0, 'projects_completed': 0, 'account_key': '0'}, {'utc_date': datetime.datetime(2015, 7, 30, 0, 0), 'num_courses_visited': 0, 'total_minutes_visited': 0.0, 'lessons_completed': 0, 'projects_completed': 0, 'account_key': '0'}, {'utc_date': datetime.datetime(2015, 7, 31, 0, 0), 'num_courses_visited': 0, 'total_minutes_visited': 0.0, 'lessons_completed': 0, 'projects_completed': 0, 'account_key': '0'}, {'utc_date': datetime.datetime(2015, 8, 1, 0, 0), 'num_courses_visited': 0, 'total_minutes_visited': 0.0, 'lessons_completed': 0, 'projects_completed': 0, 'account_key': '0'}, {'utc_date': datetime.datetime(2015, 8, 2, 0, 0), 'num_courses_visited': 0, 'total_minutes_visited': 0.0, 'lessons_completed': 0, 'projects_completed': 0, 'account_key': '0'}, {'utc_date': datetime.datetime(2015, 8, 3, 0, 0), 'num_courses_visited': 0, 'total_minutes_visited': 0.0, 'lessons_completed': 0, 'projects_completed': 0, 'account_key': '0'}, {'utc_date': datetime.datetime(2015, 8, 4, 0, 0), 'num_courses_visited': 0, 'total_minutes_visited': 0.0, 'lessons_completed': 0, 'projects_completed': 0, 'account_key': '0'}, {'utc_date': datetime.datetime(2015, 8, 5, 0, 0), 'num_courses_visited': 0, 'total_minutes_visited': 0.0, 'lessons_completed': 0, 'projects_completed': 0, 'account_key': '0'}, {'utc_date': datetime.datetime(2015, 8, 6, 0, 0), 'num_courses_visited': 0, 'total_minutes_visited': 0.0, 'lessons_completed': 0, 'projects_completed': 0, 'account_key': '0'}, {'utc_date': datetime.datetime(2015, 8, 7, 0, 0), 'num_courses_visited': 0, 'total_minutes_visited': 0.0, 'lessons_completed': 0, 'projects_completed': 0, 'account_key': '0'}, {'utc_date': datetime.datetime(2015, 8, 8, 0, 0), 'num_courses_visited': 0, 'total_minutes_visited': 0.0, 'lessons_completed': 0, 'projects_completed': 0, 'account_key': '0'}, {'utc_date': datetime.datetime(2015, 8, 9, 0, 0), 'num_courses_visited': 0, 'total_minutes_visited': 0.0, 'lessons_completed': 0, 'projects_completed': 0, 'account_key': '0'}, {'utc_date': datetime.datetime(2015, 8, 10, 0, 0), 'num_courses_visited': 0, 'total_minutes_visited': 0.0, 'lessons_completed': 0, 'projects_completed': 0, 'account_key': '0'}, {'utc_date': datetime.datetime(2015, 8, 11, 0, 0), 'num_courses_visited': 0, 'total_minutes_visited': 0.0, 'lessons_completed': 0, 'projects_completed': 0, 'account_key': '0'}, {'utc_date': datetime.datetime(2015, 8, 12, 0, 0), 'num_courses_visited': 0, 'total_minutes_visited': 0.0, 'lessons_completed': 0, 'projects_completed': 0, 'account_key': '0'}, {'utc_date': datetime.datetime(2015, 8, 13, 0, 0), 'num_courses_visited': 0, 'total_minutes_visited': 0.0, 'lessons_completed': 0, 'projects_completed': 0, 'account_key': '0'}, {'utc_date': datetime.datetime(2015, 8, 14, 0, 0), 'num_courses_visited': 1, 'total_minutes_visited': 4.72941616667, 'lessons_completed': 0, 'projects_completed': 0, 'account_key': '0'}, {'utc_date': datetime.datetime(2015, 8, 15, 0, 0), 'num_courses_visited': 0, 'total_minutes_visited': 0.0, 'lessons_completed': 0, 'projects_completed': 0, 'account_key': '0'}, {'utc_date': datetime.datetime(2015, 8, 16, 0, 0), 'num_courses_visited': 0, 'total_minutes_visited': 0.0, 'lessons_completed': 0, 'projects_completed': 0, 'account_key': '0'}, {'utc_date': datetime.datetime(2015, 8, 17, 0, 0), 'num_courses_visited': 0, 'total_minutes_visited': 0.0, 'lessons_completed': 0, 'projects_completed': 0, 'account_key': '0'}, {'utc_date': datetime.datetime(2015, 8, 18, 0, 0), 'num_courses_visited': 0, 'total_minutes_visited': 0.0, 'lessons_completed': 0, 'projects_completed': 0, 'account_key': '0'}, {'utc_date': datetime.datetime(2015, 8, 19, 0, 0), 'num_courses_visited': 0, 'total_minutes_visited': 0.0, 'lessons_completed': 0, 'projects_completed': 0, 'account_key': '0'}, {'utc_date': datetime.datetime(2015, 8, 20, 0, 0), 'num_courses_visited': 0, 'total_minutes_visited': 0.0, 'lessons_completed': 0, 'projects_completed': 0, 'account_key': '0'}, {'utc_date': datetime.datetime(2015, 8, 21, 0, 0), 'num_courses_visited': 0, 'total_minutes_visited': 0.0, 'lessons_completed': 0, 'projects_completed': 0, 'account_key': '0'}, {'utc_date': datetime.datetime(2015, 8, 22, 0, 0), 'num_courses_visited': 0, 'total_minutes_visited': 0.0, 'lessons_completed': 0, 'projects_completed': 0, 'account_key': '0'}, {'utc_date': datetime.datetime(2015, 8, 23, 0, 0), 'num_courses_visited': 0, 'total_minutes_visited': 0.0, 'lessons_completed': 0, 'projects_completed': 0, 'account_key': '0'}, {'utc_date': datetime.datetime(2015, 8, 24, 0, 0), 'num_courses_visited': 0, 'total_minutes_visited': 0.0, 'lessons_completed': 0, 'projects_completed': 0, 'account_key': '0'}, {'utc_date': datetime.datetime(2015, 8, 25, 0, 0), 'num_courses_visited': 0, 'total_minutes_visited': 0.0, 'lessons_completed': 0, 'projects_completed': 0, 'account_key': '0'}, {'utc_date': datetime.datetime(2015, 8, 26, 0, 0), 'num_courses_visited': 1, 'total_minutes_visited': 14.9694161667, 'lessons_completed': 0, 'projects_completed': 0, 'account_key': '0'}, {'utc_date': datetime.datetime(2015, 8, 27, 0, 0), 'num_courses_visited': 0, 'total_minutes_visited': 0.0, 'lessons_completed': 0, 'projects_completed': 0, 'account_key': '0'}])\n"
     ]
    }
   ],
   "source": [
    "for engag in engagement_by_account.items():\n",
    "    print(engag)\n",
    "    break\n",
    "    \n",
    "# paid_list = [v for k, v in paid_enrollments]\n",
    "# print(paid_list)\n"
   ]
  },
  {
   "cell_type": "code",
   "execution_count": 187,
   "metadata": {},
   "outputs": [
    {
     "data": {
      "text/plain": [
       "995"
      ]
     },
     "execution_count": 187,
     "metadata": {},
     "output_type": "execute_result"
    }
   ],
   "source": [
    "# Create a dictionary with the total minutes each student spent in the classroom during the first week.\n",
    "# The keys are account keys, and the values are numbers (total minutes)\n",
    "total_minutes_by_account = {}\n",
    "for account_key, engagement_for_student in engagement_by_account.items():\n",
    "    total_minutes = 0\n",
    "    for engagement_record in engagement_for_student:\n",
    "        total_minutes += engagement_record['total_minutes_visited']\n",
    "    total_minutes_by_account[account_key] = total_minutes\n",
    "    \n",
    "len(total_minutes_by_account)"
   ]
  },
  {
   "cell_type": "code",
   "execution_count": 194,
   "metadata": {},
   "outputs": [
    {
     "ename": "TypeError",
     "evalue": "int() argument must be a string, a bytes-like object or a number, not 'dict_values'",
     "output_type": "error",
     "traceback": [
      "\u001b[0;31m----------------------------------------\u001b[0m",
      "\u001b[0;31mTypeError\u001b[0mTraceback (most recent call last)",
      "\u001b[0;32m<ipython-input-194-6c54ce7647f0>\u001b[0m in \u001b[0;36m<module>\u001b[0;34m\u001b[0m\n\u001b[1;32m      3\u001b[0m \u001b[0;31m# Summarize the data about minutes spent in the classroom\u001b[0m\u001b[0;34m\u001b[0m\u001b[0;34m\u001b[0m\u001b[0;34m\u001b[0m\u001b[0m\n\u001b[1;32m      4\u001b[0m \u001b[0mtotal_minutes\u001b[0m \u001b[0;34m=\u001b[0m \u001b[0mtotal_minutes_by_account\u001b[0m\u001b[0;34m.\u001b[0m\u001b[0mvalues\u001b[0m\u001b[0;34m(\u001b[0m\u001b[0;34m)\u001b[0m\u001b[0;34m\u001b[0m\u001b[0;34m\u001b[0m\u001b[0m\n\u001b[0;32m----> 5\u001b[0;31m \u001b[0mprint\u001b[0m\u001b[0;34m(\u001b[0m\u001b[0;34m'Mean:'\u001b[0m\u001b[0;34m,\u001b[0m \u001b[0mnp\u001b[0m\u001b[0;34m.\u001b[0m\u001b[0mmean\u001b[0m\u001b[0;34m(\u001b[0m\u001b[0mint\u001b[0m\u001b[0;34m(\u001b[0m\u001b[0mtotal_minutes\u001b[0m\u001b[0;34m)\u001b[0m\u001b[0;34m)\u001b[0m\u001b[0;34m)\u001b[0m\u001b[0;34m\u001b[0m\u001b[0;34m\u001b[0m\u001b[0m\n\u001b[0m\u001b[1;32m      6\u001b[0m \u001b[0mprint\u001b[0m\u001b[0;34m(\u001b[0m\u001b[0;34m'Standard deviation:'\u001b[0m\u001b[0;34m,\u001b[0m \u001b[0mnp\u001b[0m\u001b[0;34m.\u001b[0m\u001b[0mstd\u001b[0m\u001b[0;34m(\u001b[0m\u001b[0mtotal_minutes\u001b[0m\u001b[0;34m)\u001b[0m\u001b[0;34m)\u001b[0m\u001b[0;34m\u001b[0m\u001b[0;34m\u001b[0m\u001b[0m\n\u001b[1;32m      7\u001b[0m \u001b[0mprint\u001b[0m\u001b[0;34m(\u001b[0m\u001b[0;34m'Minimum:'\u001b[0m\u001b[0;34m,\u001b[0m \u001b[0mnp\u001b[0m\u001b[0;34m.\u001b[0m\u001b[0mmin\u001b[0m\u001b[0;34m(\u001b[0m\u001b[0mtotal_minutes\u001b[0m\u001b[0;34m)\u001b[0m\u001b[0;34m)\u001b[0m\u001b[0;34m\u001b[0m\u001b[0;34m\u001b[0m\u001b[0m\n",
      "\u001b[0;31mTypeError\u001b[0m: int() argument must be a string, a bytes-like object or a number, not 'dict_values'"
     ]
    }
   ],
   "source": [
    "import numpy as np\n",
    "\n",
    "# Summarize the data about minutes spent in the classroom\n",
    "total_minutes = total_minutes_by_account.values()\n",
    "print('Mean:', np.mean(total_minutes))\n",
    "print('Standard deviation:', np.std(total_minutes))\n",
    "print('Minimum:', np.min(total_minutes))\n",
    "print('Maximum:', np.max(total_minutes))"
   ]
  },
  {
   "cell_type": "code",
   "execution_count": 193,
   "metadata": {},
   "outputs": [
    {
     "name": "stdout",
     "output_type": "stream",
     "text": [
      "dict_values([7605.371410665008, 4296.2444758356305, 2977.4300446686007, 4422.018918834502, 3722.648850166561, 4908.933278333178, 4106.3419510003705, 2196.9374261675703, 4620.633675333883, 6931.9974760003615, 6786.522830667709, 601.0891874993999, 10586.66412016477, 1977.09014266663, 2171.3060355006, 9278.582126833042, 1446.9394143341997, 2620.4063588342397, 1966.8141853335999, 2011.20928533247, 2324.0164696666593, 2212.98379266677, 2659.4834441669996, 10414.645088664402, 8112.847323668319, 4840.034289498201, 2963.45045933326, 5136.50362650046, 7448.364715667938, 2272.69812616771, 3839.7972376664993, 3433.4410844989993, 3767.4314579999614, 7899.296711499474, 3640.8049636655896, 6720.716051333241, 2481.7975725013, 13244.547495498631, 13585.694861667058, 2317.4549943339703, 1580.7553903333298, 2909.2735703322296, 2713.7918413321595, 1665.9478503340597, 4270.82292883184, 8970.50406050229, 5946.2192736669995, 1672.7847229999998, 2388.955935667, 852.7138903325999, 6793.815464836333, 2280.1874431669703, 3033.071703332699, 3108.25461066663, 3343.4234458334395, 5155.457603831532, 4578.040942164831, 7767.639067501799, 7994.183265502671, 2215.96971150044, 2105.5609664982703, 2223.4986101666, 3349.6551915014297, 3277.7462923354, 1248.94283633387, 2332.5057724995304, 5368.30291183343, 3584.7305976654393, 3838.55803583491, 4505.7318814991995, 1791.1070200003605, 841.6178888332299, 3900.404296498429, 1511.8787348344597, 5954.070189832903, 2525.19604616747, 5481.184193499968, 7655.528587992649, 8899.251456496731, 4072.5959661659303, 2026.5895753326706, 5290.00133183447, 2402.5798286668905, 3385.8892851653304, 4129.501693332429, 8524.565089999169, 3042.5606213315996, 6706.2108186625, 3580.3728161678705, 3972.98333599947, 4617.90564449865, 4973.74530066529, 7024.010157332629, 4573.388630834792, 2631.8573448341, 7459.372925666682, 5429.59231966613, 2203.92551766677, 6379.897770997572, 8853.209013998956, 6692.868287666632, 7397.75690966923, 8058.792348833372, 12213.753722162, 1856.1735768342003, 3785.552900333539, 1314.06468183297, 10613.097255999242, 3468.2178461675594, 6670.742741996931, 1644.44126199997, 1301.40410283307, 5210.096483665462, 1418.6110465000402, 4394.559055167109, 4535.452759166931, 3851.89135700029, 3684.5372066646296, 10404.200494166073, 1234.8720454996, 1288.5293106660702, 1227.2638883333698, 1425.7993764999296, 1421.73101433373, 9971.910123502183, 4617.591793002471, 1941.5751529998001, 6661.1611801674, 3164.5748909990307, 5807.212303334741, 4849.779782334401, 9108.3623433326, 2151.58260649951, 4278.585096666501, 5921.48454916795, 3593.3545510003, 6081.392079001097, 2217.21696099896, 7939.29179633536, 25114.224585666005, 3000.4434574991305, 6720.14544483526, 4534.794303999171, 3601.5466086663214, 7668.969995498383, 1795.5396384986304, 2320.3692906658603, 2916.9502008342706, 7414.4009406653995, 8106.943947333772, 1849.1859350012996, 4073.95988233083, 7346.377187663461, 3309.1577686672003, 6034.036929834302, 4228.984774666789, 4965.211006668341, 3919.44304616668, 2343.62131983373, 3239.5195943341705, 4920.49930666626, 5769.738266333098, 5962.88498416493, 4028.9460368336304, 4456.41454633367, 6505.252873001579, 635.7523955001999, 7437.043164166702, 7646.890820000699, 8201.0715035004, 14168.681183831137, 4437.928592167859, 3337.3887396685004, 2304.6151483322005, 7602.748399335038, 1861.2364338343702, 1747.4773793343998, 1584.2998636674602, 5411.931163668141, 3847.9595690003293, 5454.71780666694, 3422.9203231679894, 6865.23158183271, 2140.7725590000696, 5725.860108497939, 9759.066575665525, 6687.34940316844, 8158.8925254982, 4174.80395599946, 3921.77618916587, 8854.542708334275, 1386.74431849953, 11468.164609170652, 8004.339099165941, 9579.823160837072, 4163.3436578334895, 3572.2594771662593, 18914.61985583187, 5743.399262335132, 3782.9376404988684, 0.0, 6897.514836165561, 4641.981393335501, 10906.535882170101, 5605.954026167591, 7061.791009499872, 7849.965699500842, 4122.586944332699, 8776.327399999924, 6462.0057864974, 5649.136478830429, 506.131985833, 3096.2927568333002, 9280.978021002176, 2230.92253916743, 2767.2496893327702, 5272.185939167949, 5473.604428164999, 1217.19635699983, 4681.080631832071, 1378.94325916751, 6338.7913833333405, 4249.223555835019, 7081.360791999933, 6505.383542665702, 3774.42493633486, 2524.11239683201, 4259.0012744999385, 7546.5418553333975, 5655.967083834791, 3143.2119038329197, 8125.304758664871, 3589.080830499729, 11198.268397667784, 3161.022597832639, 1749.7404895013701, 3311.9456240004993, 1329.8934506671, 6908.560917168108, 2299.3005069998003, 2660.31175816517, 4130.81392533288, 5342.36379283303, 4226.6875255019595, 7462.188119999439, 3560.500161835099, 1285.6441858327003, 2274.58853433336, 5102.07364733297, 7821.067995833341, 2353.6725481652, 4822.563414332102, 10077.75927866686, 7191.022604832812, 5740.986651833372, 6153.038463165071, 5970.030023500591, 5312.711467166002, 2275.70085066643, 1807.2000108329698, 593.7691348332598, 5048.553117166051, 5203.8126609973715, 1725.8455778340003, 5034.185302163761, 381.9701331665, 2077.0855496662703, 5290.19378650137, 5115.367588500929, 934.3847543330301, 4581.8468884987005, 9061.795312831095, 10095.630810667368, 7380.84273533445, 2246.7204998340303, 18553.08041150401, 6614.537418498803, 3699.695853498671, 6252.455902833727, 6628.89137716639, 8239.346064165939, 7577.9372558352, 1532.5838770001399, 4398.628767499869, 1902.4867875006698, 3714.696155333829, 7960.891133999629, 4081.0143118323, 2532.8397221659, 2425.0893409982696, 7462.57004433356, 3156.3697085000595, 2155.3434659998, 2609.1449713329007, 1144.1701079998402, 5276.18772150137, 3049.029032500031, 1249.1928908329996, 6163.522012168791, 4973.155972333399, 954.8650855005601, 12724.784174167167, 3826.3607523335404, 5211.50024116409, 5571.929795001401, 6507.046273667171, 7358.632131499101, 4000.0931625006697, 2724.14134316663, 2202.22858900064, 5097.327323332889, 7590.00703366554, 7236.773391498731, 10058.866346497434, 5590.918826836639, 2072.1434508341003, 1138.7404153333302, 2452.72876066627, 1830.7929416674906, 1917.66684183308, 7211.481600335721, 3884.9403260013296, 1593.17906166667, 5600.7891724996, 2142.5423833323994, 9391.441546329519, 7560.67527933298, 3397.64282150143, 3454.54794133249, 593.0395800003299, 6295.6397761654, 1906.3933546660005, 5253.270250833781, 9816.18911316542, 2667.279950333461, 2253.69168866774, 5264.0126845006, 2962.0250074996707, 2351.4568603335697, 8679.327105166802, 2800.5575294987107, 4473.347764500061, 4427.689563334273, 8506.602571332358, 7573.423578830471, 2447.9214524993704, 4412.988379666391, 11839.409952998061, 2465.4436641675793, 7222.883501166529, 1436.4477039994001, 7699.0017025012, 1996.4442363326996, 3946.077577334461, 7264.506635334338, 3973.596253998291, 5821.0617765004, 4496.4081433317, 3007.99212733607, 1254.1561025010901, 5100.606361833272, 6003.261999497798, 1115.7310990009998, 6348.71042983284, 3450.2001456667304, 9155.020089002239, 16101.320036836867, 238.74485783296998, 4805.16024416672, 3425.83363950046, 9659.7006200008, 5353.409088832359, 5500.606448497929, 4746.452576832401, 2781.98520566627, 1295.8928798327597, 10099.160555334203, 7944.64095883486, 6692.6059676677, 1361.3257253334, 5108.466741834901, 1463.1322555001, 5208.250869667628, 2432.0120871665604, 524.9982938337, 5136.742384834862, 7257.377131166984, 6645.45920849984, 9177.42060916648, 3667.80039349939, 64.4567388334, 14082.50756599889, 3157.20992716531, 473.62318216679995, 8810.537715166249, 5861.757655501368, 2923.675695833431, 3194.08927150036, 2010.3568008327, 1929.9458374997298, 2023.7972156659698, 4496.573436334029, 3049.52535666607, 931.8826841662, 1794.5246823328998, 2032.9375015004, 4283.28076400224, 4429.150656333571, 1385.7155451666304, 7408.8298480020985, 1977.2971348329297, 2327.20472233377, 5269.639276669068, 3584.6754605005403, 150.56438516666998, 5806.41311166629, 3129.94020933209, 3264.9301036690003, 5572.10121416733, 2232.9668561653, 2090.8915804985, 3403.3308646664395, 4622.26068283464, 4627.1769709990085, 14536.090158833886, 18262.067993330184, 2933.3081841653, 2528.74649199963, 7084.6418658314005, 10257.301436166728, 2978.915244499771, 2048.4654456661997, 5345.349005834557, 7357.0868520007025, 2024.74886133341, 2813.5674356668596, 10212.74716433177, 4198.139268668129, 6281.2027961676995, 5403.59967266516, 6332.022684666861, 2840.9867068324597, 1911.4101968336101, 3686.3029184988604, 492.177831833, 3726.8309861652406, 8395.271223667156, 3014.250763168, 8527.645747328304, 7585.843471498831, 1717.0589336657401, 6781.25180783476, 4632.510954167931, 5593.188511665511, 1713.7619061650303, 2591.35876466679, 10786.72852250098, 7613.693163837557, 1079.61253783403, 4134.793912666769, 5649.203552668071, 6881.149479334261, 3583.44022250029, 5013.5406073314, 5067.5724236653705, 6314.02978649874, 6566.757985666662, 4189.7780328339495, 1839.7921244994304, 4460.962636000069, 4724.527065667039, 1271.86767200029, 4333.567083834029, 3460.53865833197, 1760.6845096669, 2618.7204273334296, 3706.9228323331295, 2199.11292233434, 10264.396988829767, 9203.59595067247, 4620.7977551656695, 6030.26458799887, 1665.64437399947, 5998.51159883294, 5150.649390001168, 2611.1315565005702, 6238.702263501582, 4730.846817833729, 2812.2334591661693, 6248.071858165469, 4400.830595331429, 3593.2555450009, 3167.7318723332, 2374.4843839996, 844.9134713336, 5141.66242750207, 2041.31618883433, 5962.630626832902, 1410.7352146675703, 4726.009502833629, 1867.2905970000002, 9931.27841283165, 2824.499643666081, 9161.253951165265, 5400.0390254999, 8675.834357336398, 2146.2198129984404, 2108.0657804998295, 3017.75526733243, 3708.674944667629, 1059.6373223336598, 3456.9688103345293, 5867.907119501141, 2158.37076950013, 2566.53496933107, 2496.85803466594, 5616.572148503131, 4598.692022499171, 3804.7778281659907, 1181.9177759989002, 5241.860420834469, 2781.744847667669, 3090.9517413311705, 3212.16205383211, 3740.0890575003004, 9736.343761998525, 2809.1334293335303, 12209.738099165937, 2312.1718008339003, 1650.7740473326003, 3621.8983756669995, 706.6537716667699, 3151.05043933367, 2880.3687983319996, 5686.29970199947, 3458.9295608337006, 6511.911241663238, 3548.20081849853, 6365.68019883153, 5952.1933813309815, 3474.5486713338096, 20320.005699830992, 2590.6234661687995, 1012.5021945002901, 1770.5404813336304, 5234.28921816846, 1884.8727553322003, 1558.3317341660002, 9585.942404502024, 4102.95712050136, 1682.4526768339701, 3757.4585861673104, 10978.415030831076, 10125.152570000624, 5042.151020666602, 6505.620445167069, 6693.957267999569, 7336.206033664511, 9500.33344083439, 4101.852601000571, 2298.6121233333, 4633.841361998731, 4427.698874333199, 8188.409988165536, 4555.161698164599, 7615.551926834582, 2526.4558833343, 1944.8152793340003, 4114.38056500031, 680.31193233307, 2283.6655481664593, 3884.6658491666603, 5180.574028332039, 3599.8338348344196, 5440.748702000367, 6632.549872168703, 3221.0483036674, 5870.124380832741, 3620.5063300003303, 3829.8416316658404, 7284.331535333562, 5080.857995497771, 3759.3677233322987, 3241.6003565010787, 2625.98615950039, 5316.704172997332, 2397.1478071662505, 9724.627647832229, 5345.021526497699, 3478.1335338313597, 6431.391575666463, 3176.9158585005307, 9965.002758832603, 4986.380739498991, 2128.0910873327703, 2048.1946038332403, 1041.7670478336001, 2268.2586264997904, 7051.8095415017615, 6035.61916249876, 1882.67842066593, 2658.8803399994395, 7675.26882583141, 2236.38229866689, 1207.8398121669, 3845.4783786642, 1590.14254466844, 3433.73448133287, 5831.577878999661, 4127.34973433324, 6233.766098499513, 2162.2433914999906, 13165.793565832253, 2021.5998998335, 10962.927279164991, 4968.155027164741, 2377.30145799884, 6059.07615200082, 3490.09786149957, 5373.060551498429, 4254.323609167631, 196.94557166673, 4609.935854834029, 4547.665570167072, 1142.5195686667, 3532.3904293339606, 3400.55472416688, 7812.856647666641, 3362.91235933503, 3171.294687499571, 310.599207167, 3496.5495491658007, 8254.770481667569, 3082.887424502, 3322.45369449976, 1228.3445661671597, 7059.249254000532, 8975.12951466496, 4697.355099001567, 5510.625228002036, 4836.758604500569, 2587.0854321655697, 3290.8861301665697, 4008.535202999701, 7545.333346832331, 5469.368903167769, 5655.1215806668615, 2988.5178358330004, 1319.5331900006, 505.51513816736997, 88.26031799993001, 1201.594680167, 1036.937890666, 54.74040799993, 1671.6766818334302, 169.61339166660002, 121.5151943333, 576.8614304990001, 646.0541226669601, 694.3605146673999, 1121.09801783443, 377.97061233297, 19.835234833370002, 100.0702155, 28.190620666670004, 9.61211033333, 18.889756499999997, 91.9569938333, 622.3224516673, 16.604203, 1101.9766531676999, 201.10681800023, 1180.5467065, 610.8059078333, 70.97433616667, 116.4866128334, 67.676047, 2.01742616667, 4833.120631333701, 355.3658333333, 127.80479266670001, 2779.2245996683996, 139.060529, 2525.6623293325006, 510.87691566667, 9.4907925, 1246.4980785, 1666.3476930001698, 23.1702716667, 0.0, 41.7199715, 5339.659436834329, 243.43287866627, 2819.4216398332605, 732.1251825001, 9.403506, 929.11254249976, 1341.4036941672, 30.8821526667, 984.5041978335998, 52.1289673334, 30.5951761667, 452.85316149937, 413.3262124997, 325.80784266661004, 0.0, 1600.7462789995, 70.27870583333, 710.0101340003299, 271.673361833, 59.340783666700005, 135.6825435, 2381.2289739999005, 0.0, 3.91036266667, 1089.7153115006, 75.74224316669999, 4.2604045, 27.8488876667, 168.21414216670001, 2763.9045788328, 206.98300783320002, 1503.6660689999999, 23.695871500029998, 625.7821340003001, 4878.717861001671, 4347.6849056663905, 695.5581970005001, 312.15438366679996, 0.0, 0.0, 1300.05280849887, 2075.5630840005, 23.7303255, 85.1154015001, 115.4624156667, 49.937148999970006, 106.2993215, 1602.4388446660998, 3681.138884333699, 0.0, 96.30831299993, 1589.1893208320998, 911.1259685005901, 140.00922216666999, 827.2753126662701, 271.01511366660003, 243.60627999999997, 86.3369936667, 2.38093233333, 38.1229506667, 109.0782855, 125.07414166662998, 13.587055, 0.0, 2448.8816425003097, 864.84821649907, 282.25257016666, 58.5606146667, 4910.204885002371, 131.58359000003, 64.29995600000001, 243.0021076666, 0.0, 266.64507050033, 2095.4702288327303, 6.598843166669999, 53.1295885, 81.0155213334, 0.0, 22.72982666667, 1016.64029900077, 30.2541315, 49.7470893333, 26.5230981667, 15.5930261667, 36.2620155, 1322.35734799834, 1710.29798066867, 254.92678883326002, 40.9875375, 3.922379, 815.93251566656, 22.0889656667, 210.8094094997, 240.87544900039998, 584.9128016669999, 382.39074833367, 63.3749175, 261.3808163337, 199.93797833329998, 218.2368018333, 198.8341033333, 6042.4158519986795, 744.9337651666999, 381.82452833263, 1367.5370988330003, 1474.70986716737, 532.6867459999701, 68.1424375, 232.1598581668, 5.03956, 780.5473373329999, 1657.49763266724, 0.0, 296.15271283339996, 26.58962799997, 131.70276883329998, 116.64797383326999, 111.02978933326999, 490.27936033329996, 134.31726183339998, 286.69891400027, 6.80688283333, 1018.7118490010001, 2032.7596578323398, 1083.0034178326, 449.6269801663, 24.9669023333, 2132.20186616653, 66.50844700007, 3.7103945, 73.84064450003001, 3.35443916667, 1164.5198808344003, 272.9986788333, 337.37474883320004, 46.494977, 750.77194316653, 70.97200966667, 619.25447899957, 106.08401216677001, 89.3700133333, 218.35409666700002, 97.99737733343001, 1907.7467738349699, 59.9798896667, 779.449955167, 536.9950376667101, 4961.789169668999, 1730.4653469992998, 246.17640166669, 1970.9608406660002, 59.5985243334, 18.8601366667, 19.803785166700003, 360.06525666663003, 11.741084, 13.899305166700001, 6269.831330667469, 15.4751356667, 0.0, 363.67023733322, 150.73283666670002, 2020.3182525002403, 37.853095, 84.5200338333, 434.3265863327, 249.53966433320002, 138.9373573337, 135.9595023334, 736.6609323331, 2745.8951480006003, 2744.2212671650004, 406.63671816669995, 0.0, 29.7377383333, 3029.5999738333, 43.6377566667, 162.537113, 3492.82921550037, 0.0, 196.6335058334, 152.213267167, 40.19418616667, 218.7301583334, 51.1061375, 1455.2523231665996, 0.0, 102.8990766667, 25.829762, 640.6889801677702, 500.20655800000003, 314.6899589997, 9675.64554883381, 453.34123983337, 1547.1059959994, 256.25739933303, 73.6289658334, 52.90383883333, 1612.4661078334002, 37.2096841667, 0.0, 0.0, 190.87024400006996, 2087.26782599953, 169.2849731667, 61.521267, 223.61143700007003, 278.3148421667, 1422.1888231660002, 0.0, 3227.00680016827, 518.9635260003699, 128.59075249996, 340.14448316577, 0.0, 105.57724800007, 28.805244, 6944.527705165709, 1042.5402226672998, 583.10708283263, 1283.8013294993698, 495.87419116693, 0.0, 2.70408483333, 87.8123571667, 83.91454983327, 1874.70508749956, 2601.490388333, 2884.3526766665295, 4195.867196331471, 516.22282049963, 754.5790381659999, 736.75960949967, 0.0, 854.3067429994398, 1201.7987236666, 2830.2797895003996, 1028.4750624996, 437.2006245, 499.627986, 343.2859963333, 50.4559288334, 4.71476416667, 1697.4669836657301, 3787.5652491652995, 451.18727249996, 724.1191998331999, 18.4334421667, 1012.5926386662001, 26.4703245, 114.066953, 930.4165223329699, 723.3102768340001, 1142.2338478334, 0.0, 12.822523, 2464.6666478340308, 266.32487266671006, 1651.7125650003002, 139.25273299999998, 1267.8305656661698, 1129.93880666567, 0.0, 0.0, 2042.1814393333004, 316.23907866626, 126.38708950033, 49.1640855, 62.9114363333, 251.47277383323, 953.41391216666, 10.59730416666, 759.1982768333701, 376.15177300000005, 31.72490483333, 162.23503150009998, 669.0196209998999, 30.8061303333, 1314.48930533386, 86.6588263333, 50.1757021667, 396.77745550006995, 28.873541000030002, 0.0, 0.0, 0.0, 11.3308886667, 4.79064933333, 720.2678633332, 62.8929255, 180.63298949997002, 210.77289983370002, 1495.3987353331, 190.9817061667, 49.61772200006, 30.70172416667, 243.1536761668, 3145.0591700011905, 187.56909233337, 1046.6426086648003, 0.0, 1283.1469574992102, 22.56583749996])\n"
     ]
    }
   ],
   "source": [
    "print(total_minutes)"
   ]
  },
  {
   "cell_type": "code",
   "execution_count": null,
   "metadata": {},
   "outputs": [],
   "source": []
  }
 ],
 "metadata": {
  "kernelspec": {
   "display_name": "Python 3",
   "language": "python",
   "name": "python3"
  },
  "language_info": {
   "codemirror_mode": {
    "name": "ipython",
    "version": 3
   },
   "file_extension": ".py",
   "mimetype": "text/x-python",
   "name": "python",
   "nbconvert_exporter": "python",
   "pygments_lexer": "ipython3",
   "version": "3.8.5"
  }
 },
 "nbformat": 4,
 "nbformat_minor": 4
}
